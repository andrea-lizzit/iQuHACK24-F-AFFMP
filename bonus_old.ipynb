{
 "cells": [
  {
   "cell_type": "code",
   "execution_count": 34,
   "metadata": {},
   "outputs": [
    {
     "name": "stdout",
     "output_type": "stream",
     "text": [
      "(6, 6)\n"
     ]
    }
   ],
   "source": [
    "import numpy as np\n",
    "from math import comb, factorial\n",
    "from itertools import combinations_with_replacement\n",
    "from itertools import permutations\n",
    "\n",
    "def factl(l):\n",
    "\treturn [factorial(i) for i in l]\n",
    "\n",
    "def permanent(matrix):\n",
    "    n = len(matrix)\n",
    "    perm_sum = 0\n",
    "\n",
    "    for perm in permutations(range(n)):\n",
    "        product = 1\n",
    "        for i in range(n):\n",
    "            product *= matrix[i, perm[i]]\n",
    "        perm_sum += product\n",
    "\n",
    "    return perm_sum\n",
    "\n",
    "def A(lam):\n",
    "\tN = lam.shape[0]\n",
    "\tn = 2\n",
    "\tN_out = comb(N+n-1, n)\n",
    "\tA = np.ones((N_out, N_out))*42\n",
    "\n",
    "\tfor idx_n, comb_n in enumerate(combinations_with_replacement(range(N), n)):\n",
    "\t\tfor idx_m, comb_m in enumerate(combinations_with_replacement(range(N), n)):\n",
    "\t\t\tn_i = np.zeros(N, dtype=int)\n",
    "\t\t\tfor x in comb_n:\n",
    "\t\t\t\tn_i[x] += 1\n",
    "\t\t\t\n",
    "\t\t\tm_i = np.zeros(N, dtype=int)\n",
    "\t\t\tfor x in comb_m:\n",
    "\t\t\t\tm_i[x] += 1\n",
    "\n",
    "\t\t\tomega = []\n",
    "\t\t\tfor i,x in enumerate(n_i):\n",
    "\t\t\t\tomega.extend([i]*x)\n",
    "\t\t\tomega = np.array(omega)\n",
    "\n",
    "\t\t\tomegap = []\n",
    "\t\t\tfor i,x in enumerate(m_i):\n",
    "\t\t\t\tomegap.extend([i]*x)\n",
    "\t\t\tomegap = np.array(omegap)\n",
    "\n",
    "\t\t\tsub = lam[omegap]\n",
    "\t\t\tsub = sub[:, omega]\n",
    "\t\t\tprefactor = np.sqrt(np.prod(factl(omega)) * np.prod(factl(omegap)))\n",
    "\t\t\tA[idx_m, idx_n] =  prefactor * permanent(sub)\n",
    "\treturn A"
   ]
  },
  {
   "cell_type": "code",
   "execution_count": 21,
   "metadata": {},
   "outputs": [
    {
     "name": "stdout",
     "output_type": "stream",
     "text": [
      "[[1 2 3]\n",
      " [4 5 6]\n",
      " [7 8 9]]\n",
      "[2 0 0]\n",
      "[2 0 0]\n",
      "[0 0]\n",
      "[0 0]\n",
      "[[1 2 3]\n",
      " [1 2 3]]\n"
     ]
    },
    {
     "data": {
      "text/plain": [
       "4.0"
      ]
     },
     "execution_count": 21,
     "metadata": {},
     "output_type": "execute_result"
    }
   ],
   "source": [
    "lam = np.array([[1, 2, 3], [4, 5, 6], [7, 8, 9]])\n",
    "print(lam)\n",
    "A(lam)"
   ]
  },
  {
   "cell_type": "code",
   "execution_count": null,
   "metadata": {},
   "outputs": [],
   "source": []
  }
 ],
 "metadata": {
  "kernelspec": {
   "display_name": "quantum",
   "language": "python",
   "name": "python3"
  },
  "language_info": {
   "codemirror_mode": {
    "name": "ipython",
    "version": 3
   },
   "file_extension": ".py",
   "mimetype": "text/x-python",
   "name": "python",
   "nbconvert_exporter": "python",
   "pygments_lexer": "ipython3",
   "version": "3.11.6"
  }
 },
 "nbformat": 4,
 "nbformat_minor": 2
}
