{
 "cells": [
  {
   "cell_type": "markdown",
   "metadata": {},
   "source": [
    "# Numerical estimate of the optimal CZ gate in hybrid encoding in the KLM model"
   ]
  },
  {
   "cell_type": "markdown",
   "metadata": {},
   "source": [
    "The target operation in the Fock basis is one that brings $|0010>|01>$ into $-|0010>|01>$, $|0001>|01>$ into $-|0001>|01>$ and acts as the identity on the rest. The operator that describes this transformation is the target $A_t$.\n",
    "\n",
    "The problem is framed as an optimization problem on the unitary matrix $\\Lambda$ which determines the transformation of the bosonic modes. $\\Lambda$ has a representation on the space of Fock states $U(\\Lambda)$. $U$ acts on the computational states as a set of Kraus operators, of which the first one $A:=K_0$ is of importance as it describes the state obtained after postselection on the ancilla qubits.\n",
    "\n",
    "The solution consists on optimizing $\\Lambda$ on the cost function of $1-F$ where $F$ is the fidelity as defined in [Uskov et al.].\n",
    "\n",
    "The presence of the hybrid encoding changes the form of the target $A_t$, while the optimization problem remains the same and can be solved as in the previous problem."
   ]
  },
  {
   "cell_type": "markdown",
   "metadata": {},
   "source": [
    "## Representation of the unitary on the Fock states\n",
    "\n",
    "An implementation of the procedure that computes the representation $U$ on the Fock states is given, following [Schee, 2004]"
   ]
  },
  {
   "cell_type": "code",
   "execution_count": 1,
   "metadata": {},
   "outputs": [],
   "source": [
    "import numpy as np\n",
    "from math import comb, factorial\n",
    "from itertools import combinations_with_replacement\n",
    "from itertools import permutations\n",
    "\n",
    "def factl(l):\n",
    "\treturn [factorial(i) for i in l]\n",
    "\n",
    "def permanent(matrix):\n",
    "    n = len(matrix)\n",
    "    perm_sum = 0\n",
    "\n",
    "    for perm in permutations(range(n)):\n",
    "        product = 1\n",
    "        for i in range(n):\n",
    "            product *= matrix[i, perm[i]]\n",
    "        perm_sum += product\t\n",
    "\n",
    "    return perm_sum\n",
    "\n",
    "def A(lam):\n",
    "\tN = lam.shape[0]\n",
    "\tn = 2\n",
    "\tN_out = comb(N+n-1, n)\n",
    "\tA = np.ones((N_out, N_out))*42\n",
    "\n",
    "\tfor idx_n, comb_n in enumerate(combinations_with_replacement(range(N), n)):\n",
    "\t\tfor idx_m, comb_m in enumerate(combinations_with_replacement(range(N), n)):\n",
    "\t\t\tn_i = np.zeros(N, dtype=int)\n",
    "\t\t\tfor x in comb_n:\n",
    "\t\t\t\tn_i[x] += 1\n",
    "\t\t\t\n",
    "\t\t\tm_i = np.zeros(N, dtype=int)\n",
    "\t\t\tfor x in comb_m:\n",
    "\t\t\t\tm_i[x] += 1\n",
    "\n",
    "\t\t\tomega = []\n",
    "\t\t\tfor i,x in enumerate(n_i):\n",
    "\t\t\t\tomega.extend([i]*x)\n",
    "\t\t\tomega = np.array(omega)\n",
    "\n",
    "\t\t\tomegap = []\n",
    "\t\t\tfor i,x in enumerate(m_i):\n",
    "\t\t\t\tomegap.extend([i]*x)\n",
    "\t\t\tomegap = np.array(omegap)\n",
    "\n",
    "\t\t\tsub = lam[omegap]\n",
    "\t\t\tsub = sub[:, omega]\n",
    "\t\t\tprefactor = np.sqrt(np.prod(factl(omega)) * np.prod(factl(omegap)))\n",
    "\t\t\tA[idx_m, idx_n] =  prefactor * permanent(sub)\n",
    "\treturn A"
   ]
  },
  {
   "cell_type": "code",
   "execution_count": 6,
   "metadata": {},
   "outputs": [
    {
     "name": "stdout",
     "output_type": "stream",
     "text": [
      "[[1.76189055 1.83984492 3.58338638]\n",
      " [5.73657834 2.63543963 4.90343875]\n",
      " [4.96939676 2.95100841 0.52825798]]\n"
     ]
    },
    {
     "data": {
      "text/plain": [
       "array([[ 6.20851662,  6.48321075, 17.85737252,  6.77005864, 18.6474671 ,\n",
       "        51.36263179],\n",
       "       [20.21444633, 15.19777068, 41.28895359,  9.69760042, 26.1139701 ,\n",
       "        70.28366251],\n",
       "       [24.76438759, 20.28303729, 37.47600286, 15.35665609, 23.09303224,\n",
       "        10.70815619],\n",
       "       [65.81666203, 30.2368118 , 79.56071487, 13.89108411, 36.55096275,\n",
       "        96.17484624],\n",
       "       [80.63091624, 42.46209612, 54.79505191, 21.99725623, 31.72456204,\n",
       "        14.65284019],\n",
       "       [98.77961679, 58.65892662, 14.84994111, 34.8338026 ,  8.81843475,\n",
       "         2.23245198]])"
      ]
     },
     "execution_count": 6,
     "metadata": {},
     "output_type": "execute_result"
    }
   ],
   "source": [
    "# example:\n",
    "lam = np.random.random((3,3))*10\n",
    "print(lam)\n",
    "A(lam)"
   ]
  },
  {
   "cell_type": "markdown",
   "metadata": {},
   "source": [
    "## Target matrix"
   ]
  },
  {
   "cell_type": "code",
   "execution_count": 9,
   "metadata": {},
   "outputs": [],
   "source": [
    "N = 6 # six photonic modes\n",
    "n = 2 # two photons\n",
    "N_fock = comb(N+n-1, n)\n",
    "At = np.identity(N_fock)\n",
    "\n",
    "def index_of_fock_state(N, n, v):\n",
    "\tv = np.array(v)\n",
    "\ti = 0\n",
    "\tfor c in combinations_with_replacement(range(N), n):\n",
    "\t\tfock_s = np.zeros(N, dtype=int)\n",
    "\t\tfor x in c:\n",
    "\t\t\tfock_s[x] += 1\n",
    "\t\tif np.all(np.array(fock_s) == v):\n",
    "\t\t\treturn i\n",
    "\t\ti += 1\n",
    "\n",
    "fock_state = [0,0,1,0,0,1]\n",
    "idx = index_of_fock_state(N, n, fock_state)\n",
    "At[idx, idx] = -1\n",
    "\n",
    "fock_state = [0,0,0,1,0,1]\n",
    "idx = index_of_fock_state(N, n, fock_state)\n",
    "At[idx, idx] = -1\n",
    "\n",
    "# Columns outside of the input space allowed by the encoding can be dropped to obtain a representation in the form of [Uskov et al.]\n",
    "allowed_input_space = np.array([\n",
    "\t[1,0,0,0,1,0],\n",
    "\t[0,1,0,0,1,0],\n",
    "\t[0,0,1,0,1,0],\n",
    "\t[0,0,0,1,1,0],\n",
    "\t[1,0,0,0,0,1],\n",
    "\t[0,1,0,0,0,1],\n",
    "\t[0,0,1,0,0,1],\n",
    "\t[0,0,0,1,0,1]\n",
    "])\n",
    "allowed_idx = []\n",
    "for state in allowed_input_space:\n",
    "\tidx = index_of_fock_state(N, n, state)\n",
    "\tallowed_idx.append(idx)\n",
    "\n",
    "At = At[:, allowed_idx]"
   ]
  },
  {
   "cell_type": "code",
   "execution_count": 11,
   "metadata": {},
   "outputs": [
    {
     "name": "stdout",
     "output_type": "stream",
     "text": [
      "[[ 0.  0.  0.  0.  0.  0.  0.  0.]\n",
      " [ 0.  0.  0.  0.  0.  0.  0.  0.]\n",
      " [ 0.  0.  0.  0.  0.  0.  0.  0.]\n",
      " [ 0.  0.  0.  0.  0.  0.  0.  0.]\n",
      " [ 1.  0.  0.  0.  0.  0.  0.  0.]\n",
      " [ 0.  0.  0.  0.  1.  0.  0.  0.]\n",
      " [ 0.  0.  0.  0.  0.  0.  0.  0.]\n",
      " [ 0.  0.  0.  0.  0.  0.  0.  0.]\n",
      " [ 0.  0.  0.  0.  0.  0.  0.  0.]\n",
      " [ 0.  1.  0.  0.  0.  0.  0.  0.]\n",
      " [ 0.  0.  0.  0.  0.  1.  0.  0.]\n",
      " [ 0.  0.  0.  0.  0.  0.  0.  0.]\n",
      " [ 0.  0.  0.  0.  0.  0.  0.  0.]\n",
      " [ 0.  0.  1.  0.  0.  0.  0.  0.]\n",
      " [ 0.  0.  0.  0.  0.  0. -1.  0.]\n",
      " [ 0.  0.  0.  0.  0.  0.  0.  0.]\n",
      " [ 0.  0.  0.  1.  0.  0.  0.  0.]\n",
      " [ 0.  0.  0.  0.  0.  0.  0. -1.]\n",
      " [ 0.  0.  0.  0.  0.  0.  0.  0.]\n",
      " [ 0.  0.  0.  0.  0.  0.  0.  0.]\n",
      " [ 0.  0.  0.  0.  0.  0.  0.  0.]]\n"
     ]
    }
   ],
   "source": [
    "print(At)"
   ]
  },
  {
   "cell_type": "markdown",
   "metadata": {},
   "source": [
    "## Optimization problem\n",
    "\n",
    "The optimization problem is solved as in the first problem"
   ]
  }
 ],
 "metadata": {
  "kernelspec": {
   "display_name": "quantum",
   "language": "python",
   "name": "python3"
  },
  "language_info": {
   "codemirror_mode": {
    "name": "ipython",
    "version": 3
   },
   "file_extension": ".py",
   "mimetype": "text/x-python",
   "name": "python",
   "nbconvert_exporter": "python",
   "pygments_lexer": "ipython3",
   "version": "3.11.6"
  }
 },
 "nbformat": 4,
 "nbformat_minor": 2
}
