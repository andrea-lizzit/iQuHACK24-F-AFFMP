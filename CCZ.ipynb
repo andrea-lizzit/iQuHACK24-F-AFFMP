{
 "cells": [
  {
   "cell_type": "code",
   "execution_count": null,
   "metadata": {},
   "outputs": [],
   "source": [
    "#File to find the CCZ Unitary function\n",
    "#1. optimization on the Fidelity from random U\n",
    "#2. optimization on both the Fidelity and the success probability, starting from U obtained in 1."
   ]
  },
  {
   "cell_type": "code",
   "execution_count": 163,
   "metadata": {},
   "outputs": [],
   "source": [
    "from scipy.optimize import minimize, NonlinearConstraint\n",
    "import numpy as np \n",
    "import matplotlib.pyplot as plt\n"
   ]
  },
  {
   "cell_type": "code",
   "execution_count": 164,
   "metadata": {},
   "outputs": [],
   "source": [
    "import numpy as np\n",
    "from itertools import permutations\n",
    "\n",
    "def permanent(matrix):\n",
    "    n = len(matrix)\n",
    "    perm_sum = 0\n",
    "\n",
    "    for perm in permutations(range(n)):\n",
    "        product = 1\n",
    "        for i in range(n):\n",
    "            product *= matrix[i, perm[i]]\n",
    "        perm_sum += product\n",
    "\n",
    "    return perm_sum"
   ]
  },
  {
   "cell_type": "code",
   "execution_count": 165,
   "metadata": {},
   "outputs": [],
   "source": [
    "def idxs_delete(bitstring):\n",
    "\n",
    "    idx_to_delete = []\n",
    "    for i,bit in enumerate(bitstring):\n",
    "        if int(bit) == 0:\n",
    "            idx_to_delete.append(i)\n",
    "            \n",
    "    return np.array(idx_to_delete)"
   ]
  },
  {
   "cell_type": "code",
   "execution_count": 166,
   "metadata": {},
   "outputs": [],
   "source": [
    "def drop_columns_and_rows(matrix, input_state):\n",
    "    \n",
    "    # Convert binary string to a list of integers\n",
    "    indices_to_drop = idxs_delete(input_state)\n",
    "\n",
    "    # Drop the specified columns and rows\n",
    "    if indices_to_drop.size == 0:\n",
    "        return matrix\n",
    "    else:\n",
    "        new_matrix = np.delete(matrix, indices_to_drop, axis=0)\n",
    "        new_matrix = np.delete(new_matrix, indices_to_drop, axis=1)\n",
    "        return new_matrix"
   ]
  },
  {
   "cell_type": "code",
   "execution_count": 167,
   "metadata": {},
   "outputs": [],
   "source": [
    "def generate_input_states(inp_length):\n",
    "    try:\n",
    "        input_states = [format(i, f'0{inp_length}b') for i in range(2**inp_length)]\n",
    "    except:\n",
    "        input_states = []\n",
    "        print('Error')\n",
    "        \n",
    "    return input_states"
   ]
  },
  {
   "cell_type": "code",
   "execution_count": 168,
   "metadata": {},
   "outputs": [],
   "source": [
    "def return_permanents(matrix):\n",
    "    \n",
    "    input_states = generate_input_states(int(len(matrix)/2))\n",
    "    perm_list = []\n",
    "    \n",
    "    for inp_state in input_states:\n",
    "        perm_list.append(permanent(drop_columns_and_rows(matrix, inp_state)))\n",
    "        \n",
    "    return np.array(perm_list)"
   ]
  },
  {
   "cell_type": "code",
   "execution_count": 169,
   "metadata": {},
   "outputs": [
    {
     "name": "stdout",
     "output_type": "stream",
     "text": [
      "[ 1  1  1  1  1  1  1 -1]\n"
     ]
    }
   ],
   "source": [
    "N = 6 #number of modes in the system\n",
    "A_target = np.array([1, 1, 1, 1, 1, 1 ,1, -1]) #target output of CCZ\n",
    "print(A_target)"
   ]
  },
  {
   "cell_type": "code",
   "execution_count": 170,
   "metadata": {},
   "outputs": [],
   "source": [
    "#cost function\n",
    "def cost_fun_F(U_vector): \n",
    "    #reshape to matrix\n",
    "    U = U_vector.reshape(N,N)\n",
    "    U = U/ np.linalg.norm(U,2) \n",
    "    A_vect = return_permanents(U) #matrix with the permanents\n",
    "    \n",
    "    F = ((np.dot(A_target, A_vect))**2)/(8*np.linalg.norm(A_vect)**2)\n",
    "    \n",
    "    return -1*(F)"
   ]
  },
  {
   "cell_type": "code",
   "execution_count": 171,
   "metadata": {},
   "outputs": [],
   "source": [
    "#constraint (unused for now)\n",
    "def constraint_norm1(x):\n",
    "    return np.linalg.norm(x,2) - 1\n",
    "\n",
    "constraint = {'type': 'eq', 'fun': constraint_norm1}\n",
    "nonlinear_constraint = NonlinearConstraint(constraint_norm1, 0, 0)"
   ]
  },
  {
   "cell_type": "code",
   "execution_count": 172,
   "metadata": {},
   "outputs": [
    {
     "name": "stdout",
     "output_type": "stream",
     "text": [
      "  message: Optimization terminated successfully.\n",
      "  success: True\n",
      "   status: 0\n",
      "      fun: -0.9999999999487106\n",
      "        x: [ 1.058e+00 -2.181e+00 ...  1.105e+00  2.690e-01]\n",
      "      nit: 40\n",
      "      jac: [-4.470e-08  1.267e-07 ...  3.427e-07  3.576e-07]\n",
      " hess_inv: [[ 4.079e+00 -1.048e+00 ... -4.208e+00 -3.806e-01]\n",
      "            [-1.048e+00  2.126e+01 ... -5.321e+00  2.097e+00]\n",
      "            ...\n",
      "            [-4.208e+00 -5.321e+00 ...  1.245e+01 -8.039e-01]\n",
      "            [-3.806e-01  2.097e+00 ... -8.039e-01  1.373e+00]]\n",
      "     nfev: 1517\n",
      "     njev: 41\n"
     ]
    }
   ],
   "source": [
    "#minimization test\n",
    "U_init = np.random.rand(N,N)\n",
    "U_init = U_init.flatten()\n",
    "minimum = minimize(cost_fun_F, U_init, method='BFGS')#, constraints=[constraint])\n",
    "print(minimum)"
   ]
  },
  {
   "cell_type": "code",
   "execution_count": 173,
   "metadata": {},
   "outputs": [
    {
     "data": {
      "image/png": "[encoded data removed]",
      "text/plain": [
       "<Figure size 640x480 with 1 Axes>"
      ]
     },
     "metadata": {},
     "output_type": "display_data"
    },
    {
     "name": "stdout",
     "output_type": "stream",
     "text": [
      "[0.99999999 1.         1.         1.         1.         1.\n",
      " 1.         1.         1.         1.         1.         1.\n",
      " 1.         1.         1.         1.         1.         1.\n",
      " 1.         1.         1.         1.         1.         1.\n",
      " 1.         1.         1.         1.         1.         1.\n",
      " 1.         1.         1.         1.         1.         1.\n",
      " 1.         1.         1.         1.         1.         1.\n",
      " 1.         1.         1.         1.         1.         1.\n",
      " 1.         1.        ]\n"
     ]
    }
   ],
   "source": [
    "cost = []\n",
    "U_matrices = []\n",
    "\n",
    "for i in range(50):\n",
    "    U_init = np.random.rand(N,N)\n",
    "    U_init = U_init.flatten() #needs to be flattened for minimization\n",
    "    #minimization\n",
    "    minimum = minimize(cost_fun_F, U_init, method='BFGS')#, tol=1e-4)#, constraints=[nonlinear_constraint])\n",
    "    cost.append(-1*minimum.fun)\n",
    "    U_matrices.append(minimum.x)\n",
    " \n",
    "cost = np.array(cost)\n",
    "U_matrices = np.array(U_matrices)    \n",
    "sorted_indices = np.argsort(cost)\n",
    "cost = cost[sorted_indices]\n",
    "U_matrices = U_matrices[sorted_indices]\n",
    "    \n",
    "plt.plot(cost)\n",
    "plt.show()\n",
    "\n",
    "print(cost)"
   ]
  },
  {
   "cell_type": "code",
   "execution_count": 179,
   "metadata": {},
   "outputs": [],
   "source": [
    "#cost function\n",
    "def cost_fun(U_vector): \n",
    "    #reshape to matrix\n",
    "    U = U_vector.reshape(N,N)\n",
    "    U = U/ np.linalg.norm(U,2) \n",
    "    A_vect = return_permanents(U)\n",
    "\n",
    "    F = ((np.dot(A_target, A_vect))**2)/(8*np.linalg.norm(A_vect)**2)\n",
    "    \n",
    "    S = A_vect[0]**2            #success probability\n",
    "    \n",
    "    return -1*(20000*F + S )"
   ]
  },
  {
   "cell_type": "code",
   "execution_count": 180,
   "metadata": {},
   "outputs": [
    {
     "data": {
      "image/png": "[encoded data removed]",
      "text/plain": [
       "<Figure size 640x480 with 1 Axes>"
      ]
     },
     "metadata": {},
     "output_type": "display_data"
    },
    {
     "name": "stdout",
     "output_type": "stream",
     "text": [
      "[20000.00000497 20000.00000905 20000.00001162 20000.00001894\n",
      " 20000.00002723 20000.00009136 20000.00013962 20000.00017647\n",
      " 20000.00018993 20000.0003322 ]\n"
     ]
    }
   ],
   "source": [
    "cost_final = []\n",
    "U_matrix_final = []\n",
    "for i in range(10):\n",
    "    U_init = U_matrices[49-i]\n",
    "    minimum = minimize(cost_fun, U_init, method='BFGS', tol=1e-4)#, constraints=[nonlinear_constraint])\n",
    "    cost_final.append(-1*minimum.fun)\n",
    "    U_matrix_final.append(minimum.x) #minimum.x\n",
    "\n",
    "cost_final = np.array(cost_final)\n",
    "U_matrix_final = np.array(U_matrix_final)    \n",
    "sorted_indices_fin = np.argsort(cost_final)\n",
    "cost_final = cost_final[sorted_indices_fin]\n",
    "U_matrix_final = U_matrix_final[sorted_indices_fin]\n",
    "    \n",
    "plt.plot(cost_final)\n",
    "plt.show()\n",
    "\n",
    "print(cost_final)"
   ]
  },
  {
   "cell_type": "code",
   "execution_count": 181,
   "metadata": {},
   "outputs": [],
   "source": [
    "#cost function\n",
    "def cost_fun_S(U_vector): \n",
    "    #reshape to matrix\n",
    "    U = U_vector.reshape(N,N)\n",
    "    U = U/ np.linalg.norm(U,2) \n",
    "    A_vect = return_permanents(U)\n",
    "    A_tar_vect = A_target.flatten()\n",
    "    #print(F)\n",
    "    S = A_vect[0]**2            #success probability\n",
    "    \n",
    "    return -1*(S )"
   ]
  },
  {
   "cell_type": "code",
   "execution_count": 182,
   "metadata": {},
   "outputs": [
    {
     "name": "stdout",
     "output_type": "stream",
     "text": [
      "Success probability:  0.0003322021528042143\n",
      "Fidelity:  0.9999999999998143 \n",
      "\n",
      "Success probability:  0.00018993187947168762\n",
      "Fidelity:  0.9999999999997453 \n",
      "\n",
      "Success probability:  0.0001764788973669814\n",
      "Fidelity:  0.9999999999997239 \n",
      "\n",
      "Success probability:  0.0001396326377243469\n",
      "Fidelity:  0.999999999999397 \n",
      "\n"
     ]
    }
   ],
   "source": [
    "for i in range(4):\n",
    "    print(\"Success probability: \",-1*cost_fun_S(U_matrix_final[9-i]))\n",
    "    print(\"Fidelity: \",-1*cost_fun_F(U_matrix_final[9-i]),\"\\n\")"
   ]
  },
  {
   "cell_type": "code",
   "execution_count": 183,
   "metadata": {},
   "outputs": [
    {
     "name": "stdout",
     "output_type": "stream",
     "text": [
      "[[ 1.48196546e+00  1.21807580e+00  6.30688295e-01  1.98528909e+00\n",
      "   1.91983034e+00  7.26317604e-01]\n",
      " [-2.37370025e+00  8.73996293e-01 -1.79076837e+00  3.65861069e-01\n",
      "   6.67387308e-01  1.77387435e+00]\n",
      " [-2.71821813e+00  3.73221355e-01  6.84249124e-01  2.26741571e-01\n",
      "   9.68750348e-01  1.67340930e+00]\n",
      " [ 4.13724481e-01  1.84681078e+00  1.09104176e+00  2.00431125e-01\n",
      "   7.62675486e-01 -3.04953047e-01]\n",
      " [ 1.37727828e+00  4.60976287e-01  1.50784824e+00  1.80346987e-04\n",
      "   3.81766211e-02  1.01171178e+00]\n",
      " [ 6.67133538e-01  1.48403767e+00  1.07341429e+00  5.47189675e-01\n",
      "   4.36526835e-01 -2.57745769e-02]]\n"
     ]
    }
   ],
   "source": [
    "print(U_matrix_final[3].reshape(N,N))"
   ]
  }
 ],
 "metadata": {
  "kernelspec": {
   "display_name": "Python 3",
   "language": "python",
   "name": "python3"
  },
  "language_info": {
   "codemirror_mode": {
    "name": "ipython",
    "version": 3
   },
   "file_extension": ".py",
   "mimetype": "text/x-python",
   "name": "python",
   "nbconvert_exporter": "python",
   "pygments_lexer": "ipython3",
   "version": "3.11.3"
  }
 },
 "nbformat": 4,
 "nbformat_minor": 2
}
