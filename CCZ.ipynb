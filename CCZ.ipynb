{
 "cells": [
  {
   "cell_type": "code",
   "execution_count": 95,
   "metadata": {},
   "outputs": [],
   "source": [
    "from scipy.optimize import minimize, NonlinearConstraint\n",
    "import numpy as np \n",
    "import matplotlib.pyplot as plt\n"
   ]
  },
  {
   "cell_type": "code",
   "execution_count": 96,
   "metadata": {},
   "outputs": [],
   "source": [
    "import numpy as np\n",
    "from itertools import permutations\n",
    "\n",
    "def permanent(matrix):\n",
    "    n = len(matrix)\n",
    "    perm_sum = 0\n",
    "\n",
    "    for perm in permutations(range(n)):\n",
    "        product = 1\n",
    "        for i in range(n):\n",
    "            product *= matrix[i, perm[i]]\n",
    "        perm_sum += product\n",
    "\n",
    "    return perm_sum"
   ]
  },
  {
   "cell_type": "code",
   "execution_count": 97,
   "metadata": {},
   "outputs": [],
   "source": [
    "def idxs_delete(bitstring):\n",
    "\n",
    "    idx_to_delete = []\n",
    "    for i,bit in enumerate(bitstring):\n",
    "        if int(bit) == 0:\n",
    "            idx_to_delete.append(i)\n",
    "            \n",
    "    return np.array(idx_to_delete)"
   ]
  },
  {
   "cell_type": "code",
   "execution_count": 98,
   "metadata": {},
   "outputs": [],
   "source": [
    "def drop_columns_and_rows(matrix, input_state):\n",
    "    \n",
    "    # Convert binary string to a list of integers\n",
    "    indices_to_drop = idxs_delete(input_state)\n",
    "\n",
    "    # Drop the specified columns and rows\n",
    "    if indices_to_drop.size == 0:\n",
    "        return matrix\n",
    "    else:\n",
    "        new_matrix = np.delete(matrix, indices_to_drop, axis=0)\n",
    "        new_matrix = np.delete(new_matrix, indices_to_drop, axis=1)\n",
    "        return new_matrix"
   ]
  },
  {
   "cell_type": "code",
   "execution_count": 99,
   "metadata": {},
   "outputs": [],
   "source": [
    "def generate_input_states(inp_length):\n",
    "    try:\n",
    "        input_states = [format(i, f'0{inp_length}b') for i in range(2**inp_length)]\n",
    "    except:\n",
    "        input_states = []\n",
    "        print('Error')\n",
    "        \n",
    "    return input_states"
   ]
  },
  {
   "cell_type": "code",
   "execution_count": 100,
   "metadata": {},
   "outputs": [],
   "source": [
    "def return_permanents(matrix):\n",
    "    \n",
    "    input_states = generate_input_states(int(len(matrix)/2))\n",
    "    perm_list = []\n",
    "    \n",
    "    for inp_state in input_states:\n",
    "        perm_list.append(permanent(drop_columns_and_rows(matrix, inp_state)))\n",
    "        \n",
    "    return np.array(perm_list)"
   ]
  },
  {
   "cell_type": "code",
   "execution_count": 101,
   "metadata": {},
   "outputs": [
    {
     "name": "stdout",
     "output_type": "stream",
     "text": [
      "[[ 1  1]\n",
      " [ 1 -1]]\n"
     ]
    }
   ],
   "source": [
    "N = 4 #number of qubits\n",
    "A_target = np.array([[1, 1], [1, -1]])\n",
    "#A_target = np.array([[1, 1, 1], [1, 1, 1], [1, 1, 1]]) \n",
    "print(A_target)"
   ]
  },
  {
   "cell_type": "code",
   "execution_count": 102,
   "metadata": {},
   "outputs": [],
   "source": [
    "#find A function\n",
    "def permanent_a(U_matrix):\n",
    "    A = np.dot(np.transpose(U_matrix),U_matrix)\n",
    "    #print(A)\n",
    "    return A[:3,:3]"
   ]
  },
  {
   "cell_type": "code",
   "execution_count": 123,
   "metadata": {},
   "outputs": [],
   "source": [
    "#cost function\n",
    "def cost_fun(U_vector): \n",
    "    #reshape to matrix\n",
    "    U = U_vector.reshape(N,N)\n",
    "    U = U/ np.linalg.norm(U,2) \n",
    "    A_vect = return_permanents(U)\n",
    "    A_tar_vect = A_target.flatten()\n",
    "    #print(\"permanent matrix: \", A_vect)\n",
    "    F = np.abs(np.dot(A_tar_vect, A_vect))/((N/2)**2*abs(A_vect[0]))\n",
    "    #print(F)\n",
    "    S = A_vect[0]**2            #success probability\n",
    "    \n",
    "    return -1*(F)"
   ]
  },
  {
   "cell_type": "code",
   "execution_count": 124,
   "metadata": {},
   "outputs": [
    {
     "data": {
      "text/plain": [
       "-0.9999999999999998"
      ]
     },
     "execution_count": 124,
     "metadata": {},
     "output_type": "execute_result"
    }
   ],
   "source": [
    "test = np.array([\n",
    "    [-1/3, -np.sqrt(2)/3, np.sqrt(2)/3, 2/3],\n",
    "    [np.sqrt(2)/3, -1/3, -2/3, np.sqrt(2)/3],\n",
    "    [-np.sqrt(3+np.sqrt(6))/3, np.sqrt(3-np.sqrt(6))/3, -np.sqrt((3+np.sqrt(6))/2)/3, np.sqrt(1/6-1/(3*np.sqrt(6)))],\n",
    "    [-np.sqrt(3-np.sqrt(6))/3, -np.sqrt(3+np.sqrt(6))/3, -np.sqrt(1/6-1/(3*np.sqrt(6))), -np.sqrt((3+np.sqrt(6))/2)/3]\n",
    "])\n",
    "return_permanents(test)\n",
    "cost_fun(test.flatten())"
   ]
  },
  {
   "cell_type": "code",
   "execution_count": 125,
   "metadata": {},
   "outputs": [],
   "source": [
    "#initialization of U\n",
    "N=4\n",
    "U_real = np.random.rand(N,N)\n",
    "U_complex = np.random.rand(N,N)\n",
    "U_init = U_real + 1j*U_complex\n",
    "#U0 = U0*1e-2 + U_init\n",
    "U_init = U_init / np.linalg.norm(U_init)\n",
    "#print(U_init, return_permanents(U_init))"
   ]
  },
  {
   "cell_type": "code",
   "execution_count": 126,
   "metadata": {},
   "outputs": [],
   "source": [
    "def constraint_norm1(x):\n",
    "    return np.linalg.norm(x,2) - 1\n",
    "\n",
    "constraint = {'type': 'eq', 'fun': constraint_norm1}\n",
    "nonlinear_constraint = NonlinearConstraint(constraint_norm1, 0, 0)\n",
    "\n"
   ]
  },
  {
   "cell_type": "code",
   "execution_count": 141,
   "metadata": {},
   "outputs": [
    {
     "name": "stderr",
     "output_type": "stream",
     "text": [
      "c:\\Users\\feded\\AppData\\Local\\Programs\\Python\\Python311\\Lib\\site-packages\\scipy\\optimize\\_differentiable_functions.py:107: ComplexWarning: Casting complex values to real discards the imaginary part\n",
      "  self.x = np.atleast_1d(x0).astype(float)\n",
      "c:\\Users\\feded\\AppData\\Local\\Programs\\Python\\Python311\\Lib\\site-packages\\scipy\\optimize\\_differentiable_functions.py:243: ComplexWarning: Casting complex values to real discards the imaginary part\n",
      "  self.x = np.atleast_1d(x).astype(float)\n"
     ]
    },
    {
     "name": "stdout",
     "output_type": "stream",
     "text": [
      "  message: Desired error not necessarily achieved due to precision loss.\n",
      "  success: False\n",
      "   status: 2\n",
      "      fun: -0.4687740430939479\n",
      "        x: [0.47992225+0.79310859j 0.3166483 +0.69560981j ...\n",
      "            0.33503693+0.37188269j 0.19857578+0.91585621j]\n",
      "      nit: 0\n",
      "      jac: [-3.033e-02  7.293e-02 ...  6.313e-02  7.834e-02]\n",
      " hess_inv: [[1 0 ... 0 0]\n",
      "            [0 1 ... 0 0]\n",
      "            ...\n",
      "            [0 0 ... 1 0]\n",
      "            [0 0 ... 0 1]]\n",
      "     nfev: 795\n",
      "     njev: 44\n"
     ]
    },
    {
     "name": "stderr",
     "output_type": "stream",
     "text": [
      "c:\\Users\\feded\\AppData\\Local\\Programs\\Python\\Python311\\Lib\\site-packages\\scipy\\optimize\\_differentiable_functions.py:243: ComplexWarning: Casting complex values to real discards the imaginary part\n",
      "  self.x = np.atleast_1d(x).astype(float)\n"
     ]
    }
   ],
   "source": [
    "#minimization\n",
    "U_init = U_init.flatten()\n",
    "minimum = minimize(cost_fun, U_init, method='BFGS')#, constraints=[constraint])\n",
    "print(minimum)"
   ]
  },
  {
   "cell_type": "code",
   "execution_count": 144,
   "metadata": {},
   "outputs": [
    {
     "name": "stderr",
     "output_type": "stream",
     "text": [
      "c:\\Users\\feded\\AppData\\Local\\Programs\\Python\\Python311\\Lib\\site-packages\\scipy\\optimize\\_differentiable_functions.py:107: ComplexWarning: Casting complex values to real discards the imaginary part\n",
      "  self.x = np.atleast_1d(x0).astype(float)\n",
      "c:\\Users\\feded\\AppData\\Local\\Programs\\Python\\Python311\\Lib\\site-packages\\scipy\\optimize\\_differentiable_functions.py:243: ComplexWarning: Casting complex values to real discards the imaginary part\n",
      "  self.x = np.atleast_1d(x).astype(float)\n",
      "c:\\Users\\feded\\AppData\\Local\\Programs\\Python\\Python311\\Lib\\site-packages\\scipy\\optimize\\_differentiable_functions.py:243: ComplexWarning: Casting complex values to real discards the imaginary part\n",
      "  self.x = np.atleast_1d(x).astype(float)\n",
      "c:\\Users\\feded\\AppData\\Local\\Programs\\Python\\Python311\\Lib\\site-packages\\scipy\\optimize\\_differentiable_functions.py:107: ComplexWarning: Casting complex values to real discards the imaginary part\n",
      "  self.x = np.atleast_1d(x0).astype(float)\n",
      "c:\\Users\\feded\\AppData\\Local\\Programs\\Python\\Python311\\Lib\\site-packages\\scipy\\optimize\\_differentiable_functions.py:243: ComplexWarning: Casting complex values to real discards the imaginary part\n",
      "  self.x = np.atleast_1d(x).astype(float)\n",
      "c:\\Users\\feded\\AppData\\Local\\Programs\\Python\\Python311\\Lib\\site-packages\\scipy\\optimize\\_differentiable_functions.py:243: ComplexWarning: Casting complex values to real discards the imaginary part\n",
      "  self.x = np.atleast_1d(x).astype(float)\n",
      "c:\\Users\\feded\\AppData\\Local\\Programs\\Python\\Python311\\Lib\\site-packages\\scipy\\optimize\\_differentiable_functions.py:107: ComplexWarning: Casting complex values to real discards the imaginary part\n",
      "  self.x = np.atleast_1d(x0).astype(float)\n",
      "c:\\Users\\feded\\AppData\\Local\\Programs\\Python\\Python311\\Lib\\site-packages\\scipy\\optimize\\_differentiable_functions.py:243: ComplexWarning: Casting complex values to real discards the imaginary part\n",
      "  self.x = np.atleast_1d(x).astype(float)\n",
      "c:\\Users\\feded\\AppData\\Local\\Programs\\Python\\Python311\\Lib\\site-packages\\scipy\\optimize\\_differentiable_functions.py:243: ComplexWarning: Casting complex values to real discards the imaginary part\n",
      "  self.x = np.atleast_1d(x).astype(float)\n",
      "c:\\Users\\feded\\AppData\\Local\\Programs\\Python\\Python311\\Lib\\site-packages\\scipy\\optimize\\_differentiable_functions.py:107: ComplexWarning: Casting complex values to real discards the imaginary part\n",
      "  self.x = np.atleast_1d(x0).astype(float)\n",
      "c:\\Users\\feded\\AppData\\Local\\Programs\\Python\\Python311\\Lib\\site-packages\\scipy\\optimize\\_differentiable_functions.py:243: ComplexWarning: Casting complex values to real discards the imaginary part\n",
      "  self.x = np.atleast_1d(x).astype(float)\n",
      "c:\\Users\\feded\\AppData\\Local\\Programs\\Python\\Python311\\Lib\\site-packages\\scipy\\optimize\\_differentiable_functions.py:243: ComplexWarning: Casting complex values to real discards the imaginary part\n",
      "  self.x = np.atleast_1d(x).astype(float)\n",
      "c:\\Users\\feded\\AppData\\Local\\Programs\\Python\\Python311\\Lib\\site-packages\\scipy\\optimize\\_differentiable_functions.py:107: ComplexWarning: Casting complex values to real discards the imaginary part\n",
      "  self.x = np.atleast_1d(x0).astype(float)\n",
      "c:\\Users\\feded\\AppData\\Local\\Programs\\Python\\Python311\\Lib\\site-packages\\scipy\\optimize\\_differentiable_functions.py:243: ComplexWarning: Casting complex values to real discards the imaginary part\n",
      "  self.x = np.atleast_1d(x).astype(float)\n",
      "c:\\Users\\feded\\AppData\\Local\\Programs\\Python\\Python311\\Lib\\site-packages\\scipy\\optimize\\_differentiable_functions.py:243: ComplexWarning: Casting complex values to real discards the imaginary part\n",
      "  self.x = np.atleast_1d(x).astype(float)\n",
      "c:\\Users\\feded\\AppData\\Local\\Programs\\Python\\Python311\\Lib\\site-packages\\scipy\\optimize\\_differentiable_functions.py:107: ComplexWarning: Casting complex values to real discards the imaginary part\n",
      "  self.x = np.atleast_1d(x0).astype(float)\n",
      "c:\\Users\\feded\\AppData\\Local\\Programs\\Python\\Python311\\Lib\\site-packages\\scipy\\optimize\\_differentiable_functions.py:243: ComplexWarning: Casting complex values to real discards the imaginary part\n",
      "  self.x = np.atleast_1d(x).astype(float)\n",
      "c:\\Users\\feded\\AppData\\Local\\Programs\\Python\\Python311\\Lib\\site-packages\\scipy\\optimize\\_differentiable_functions.py:243: ComplexWarning: Casting complex values to real discards the imaginary part\n",
      "  self.x = np.atleast_1d(x).astype(float)\n",
      "c:\\Users\\feded\\AppData\\Local\\Programs\\Python\\Python311\\Lib\\site-packages\\scipy\\optimize\\_differentiable_functions.py:107: ComplexWarning: Casting complex values to real discards the imaginary part\n",
      "  self.x = np.atleast_1d(x0).astype(float)\n",
      "c:\\Users\\feded\\AppData\\Local\\Programs\\Python\\Python311\\Lib\\site-packages\\scipy\\optimize\\_differentiable_functions.py:243: ComplexWarning: Casting complex values to real discards the imaginary part\n",
      "  self.x = np.atleast_1d(x).astype(float)\n",
      "c:\\Users\\feded\\AppData\\Local\\Programs\\Python\\Python311\\Lib\\site-packages\\scipy\\optimize\\_differentiable_functions.py:243: ComplexWarning: Casting complex values to real discards the imaginary part\n",
      "  self.x = np.atleast_1d(x).astype(float)\n",
      "c:\\Users\\feded\\AppData\\Local\\Programs\\Python\\Python311\\Lib\\site-packages\\scipy\\optimize\\_differentiable_functions.py:107: ComplexWarning: Casting complex values to real discards the imaginary part\n",
      "  self.x = np.atleast_1d(x0).astype(float)\n",
      "c:\\Users\\feded\\AppData\\Local\\Programs\\Python\\Python311\\Lib\\site-packages\\scipy\\optimize\\_differentiable_functions.py:243: ComplexWarning: Casting complex values to real discards the imaginary part\n",
      "  self.x = np.atleast_1d(x).astype(float)\n",
      "c:\\Users\\feded\\AppData\\Local\\Programs\\Python\\Python311\\Lib\\site-packages\\scipy\\optimize\\_differentiable_functions.py:243: ComplexWarning: Casting complex values to real discards the imaginary part\n",
      "  self.x = np.atleast_1d(x).astype(float)\n",
      "c:\\Users\\feded\\AppData\\Local\\Programs\\Python\\Python311\\Lib\\site-packages\\scipy\\optimize\\_differentiable_functions.py:107: ComplexWarning: Casting complex values to real discards the imaginary part\n",
      "  self.x = np.atleast_1d(x0).astype(float)\n",
      "c:\\Users\\feded\\AppData\\Local\\Programs\\Python\\Python311\\Lib\\site-packages\\scipy\\optimize\\_differentiable_functions.py:243: ComplexWarning: Casting complex values to real discards the imaginary part\n",
      "  self.x = np.atleast_1d(x).astype(float)\n",
      "c:\\Users\\feded\\AppData\\Local\\Programs\\Python\\Python311\\Lib\\site-packages\\scipy\\optimize\\_differentiable_functions.py:243: ComplexWarning: Casting complex values to real discards the imaginary part\n",
      "  self.x = np.atleast_1d(x).astype(float)\n",
      "c:\\Users\\feded\\AppData\\Local\\Programs\\Python\\Python311\\Lib\\site-packages\\scipy\\optimize\\_differentiable_functions.py:107: ComplexWarning: Casting complex values to real discards the imaginary part\n",
      "  self.x = np.atleast_1d(x0).astype(float)\n",
      "c:\\Users\\feded\\AppData\\Local\\Programs\\Python\\Python311\\Lib\\site-packages\\scipy\\optimize\\_differentiable_functions.py:243: ComplexWarning: Casting complex values to real discards the imaginary part\n",
      "  self.x = np.atleast_1d(x).astype(float)\n",
      "c:\\Users\\feded\\AppData\\Local\\Programs\\Python\\Python311\\Lib\\site-packages\\scipy\\optimize\\_differentiable_functions.py:243: ComplexWarning: Casting complex values to real discards the imaginary part\n",
      "  self.x = np.atleast_1d(x).astype(float)\n"
     ]
    },
    {
     "name": "stdout",
     "output_type": "stream",
     "text": [
      "[0.3582747018250975, 0.4597561143293155, 0.4892308896041118, 0.46294096595136, 0.45155918976465126, 0.6022195213683644, 0.5849635938480862, 0.3720784712049528, 0.4439595097082975, 0.5367007195138266]\n"
     ]
    },
    {
     "data": {
      "image/png": "[encoded data removed]",
      "text/plain": [
       "<Figure size 640x480 with 1 Axes>"
      ]
     },
     "metadata": {},
     "output_type": "display_data"
    }
   ],
   "source": [
    "cost = []\n",
    "U_matrices = []\n",
    "\n",
    "for i in range(10):\n",
    "    U_real = np.random.rand(N,N)\n",
    "    U_complex = np.random.rand(N,N)\n",
    "    U_init = np.zeros((N,N),dtype = 'complex_')\n",
    "    U_init = U_real + 1j*U_complex\n",
    "    #U_init = U_init / np.linalg.norm(U_init)\n",
    "    U_init = U_init.flatten()\n",
    "    #minimization\n",
    "    minimum = minimize(cost_fun, U_init, method='BFGS', tol=1e-4)#, constraints=[nonlinear_constraint])\n",
    "    cost.append(-1*minimum.fun)\n",
    "    U_matrices.append(minimum.x)\n",
    " \n",
    "print(cost) \n",
    "cost = np.array(cost)\n",
    "#U_matrices = np.array(U_matrices)    \n",
    "sorted_indices = np.argsort(cost)\n",
    "cost = cost[sorted_indices]\n",
    "#U_matrices = U_matrices[sorted_indices]\n",
    "    \n",
    "plt.plot(cost)\n",
    "plt.show()"
   ]
  },
  {
   "cell_type": "code",
   "execution_count": 142,
   "metadata": {},
   "outputs": [
    {
     "name": "stdout",
     "output_type": "stream",
     "text": [
      "-0.505568963290735\n",
      "-0.35172898800955643\n",
      "-0.47155014089753977\n",
      "-0.4883972504539259\n",
      "-0.5201602326330165\n",
      "-0.6163290955349606\n",
      "-0.5100273377180262\n",
      "-0.6138066915319652\n",
      "-0.5108628165228577\n",
      "-0.4915205177046794\n"
     ]
    }
   ],
   "source": [
    "#U_matrices[-1] = U_matrices[-1]/np.linalg.norm(U_matrices[-1])\n",
    "for i in range(len(U_matrices)):\n",
    "    print(cost_fun(U_matrices[i]))\n"
   ]
  }
 ],
 "metadata": {
  "kernelspec": {
   "display_name": "Python 3",
   "language": "python",
   "name": "python3"
  },
  "language_info": {
   "codemirror_mode": {
    "name": "ipython",
    "version": 3
   },
   "file_extension": ".py",
   "mimetype": "text/x-python",
   "name": "python",
   "nbconvert_exporter": "python",
   "pygments_lexer": "ipython3",
   "version": "3.11.3"
  }
 },
 "nbformat": 4,
 "nbformat_minor": 2
}
