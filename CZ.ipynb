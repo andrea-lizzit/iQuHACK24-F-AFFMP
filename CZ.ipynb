{
 "cells": [
  {
   "cell_type": "code",
   "execution_count": 79,
   "metadata": {},
   "outputs": [],
   "source": [
    "from scipy.optimize import minimize, NonlinearConstraint\n",
    "import numpy as np \n",
    "import matplotlib.pyplot as plt\n"
   ]
  },
  {
   "cell_type": "code",
   "execution_count": 80,
   "metadata": {},
   "outputs": [],
   "source": [
    "import numpy as np\n",
    "from itertools import permutations\n",
    "\n",
    "def permanent(matrix):\n",
    "    n = len(matrix)\n",
    "    perm_sum = 0\n",
    "\n",
    "    for perm in permutations(range(n)):\n",
    "        product = 1\n",
    "        for i in range(n):\n",
    "            product *= matrix[i, perm[i]]\n",
    "        perm_sum += product\n",
    "\n",
    "    return perm_sum"
   ]
  },
  {
   "cell_type": "code",
   "execution_count": 81,
   "metadata": {},
   "outputs": [],
   "source": [
    "def idxs_delete(bitstring):\n",
    "\n",
    "    idx_to_delete = []\n",
    "    for i,bit in enumerate(bitstring):\n",
    "        if int(bit) == 0:\n",
    "            idx_to_delete.append(i)\n",
    "            \n",
    "    return np.array(idx_to_delete)"
   ]
  },
  {
   "cell_type": "code",
   "execution_count": 82,
   "metadata": {},
   "outputs": [],
   "source": [
    "def drop_columns_and_rows(matrix, input_state):\n",
    "    \n",
    "    # Convert binary string to a list of integers\n",
    "    indices_to_drop = idxs_delete(input_state)\n",
    "\n",
    "    # Drop the specified columns and rows\n",
    "    if indices_to_drop.size == 0:\n",
    "        return matrix\n",
    "    else:\n",
    "        new_matrix = np.delete(matrix, indices_to_drop, axis=0)\n",
    "        new_matrix = np.delete(new_matrix, indices_to_drop, axis=1)\n",
    "        return new_matrix"
   ]
  },
  {
   "cell_type": "code",
   "execution_count": 83,
   "metadata": {},
   "outputs": [],
   "source": [
    "def generate_input_states(inp_length):\n",
    "    try:\n",
    "        input_states = [format(i, f'0{inp_length}b') for i in range(2**inp_length)]\n",
    "    except:\n",
    "        input_states = []\n",
    "        print('Error')\n",
    "        \n",
    "    return input_states"
   ]
  },
  {
   "cell_type": "code",
   "execution_count": 84,
   "metadata": {},
   "outputs": [],
   "source": [
    "def return_permanents(matrix):\n",
    "    \n",
    "    input_states = generate_input_states(int(len(matrix)/2))\n",
    "    perm_list = []\n",
    "    \n",
    "    for inp_state in input_states:\n",
    "        perm_list.append(permanent(drop_columns_and_rows(matrix, inp_state)))\n",
    "        \n",
    "    return np.array(perm_list)"
   ]
  },
  {
   "cell_type": "code",
   "execution_count": 85,
   "metadata": {},
   "outputs": [
    {
     "name": "stdout",
     "output_type": "stream",
     "text": [
      "[ 1  1  1 -1]\n"
     ]
    }
   ],
   "source": [
    "N = 4 #number of modes in the system\n",
    "A_target = np.array([1, 1, 1, -1]) #target output of CCZ\n",
    "print(A_target)"
   ]
  },
  {
   "cell_type": "code",
   "execution_count": 86,
   "metadata": {},
   "outputs": [],
   "source": [
    "#cost function\n",
    "def cost_fun_F(U_vector): \n",
    "    #reshape to matrix\n",
    "    U = U_vector.reshape(N,N)\n",
    "    U = U/ np.linalg.norm(U,2) \n",
    "    A_vect = return_permanents(U) #matrix with the permanents\n",
    "    \n",
    "    F = ((np.dot(A_target, A_vect))**2)/((N/2)**2*np.linalg.norm(A_vect)**2)\n",
    "    \n",
    "    return -1*(F)"
   ]
  },
  {
   "cell_type": "code",
   "execution_count": 87,
   "metadata": {},
   "outputs": [],
   "source": [
    "#constraint (unused for now)\n",
    "def constraint_norm1(x):\n",
    "    return np.linalg.norm(x,2) - 1\n",
    "\n",
    "constraint = {'type': 'eq', 'fun': constraint_norm1}\n",
    "nonlinear_constraint = NonlinearConstraint(constraint_norm1, 0, 0)"
   ]
  },
  {
   "cell_type": "code",
   "execution_count": 88,
   "metadata": {},
   "outputs": [
    {
     "name": "stdout",
     "output_type": "stream",
     "text": [
      "  message: Optimization terminated successfully.\n",
      "  success: True\n",
      "   status: 0\n",
      "      fun: -0.999999999920039\n",
      "        x: [-1.460e-01 -3.578e+00 ...  9.426e-01  1.251e+00]\n",
      "      nit: 11\n",
      "      jac: [ 7.078e-07 -1.185e-06 ...  3.137e-06 -2.265e-06]\n",
      " hess_inv: [[ 1.154e+00  7.765e-01 ...  2.675e-02 -2.958e-02]\n",
      "            [ 7.765e-01  1.031e+01 ... -5.792e-01 -1.150e+00]\n",
      "            ...\n",
      "            [ 2.675e-02 -5.792e-01 ...  9.826e-01  1.737e-02]\n",
      "            [-2.958e-02 -1.150e+00 ...  1.737e-02  1.033e+00]]\n",
      "     nfev: 204\n",
      "     njev: 12\n"
     ]
    }
   ],
   "source": [
    "#minimization test\n",
    "U_init = np.random.rand(N,N)\n",
    "U_init = U_init.flatten()\n",
    "minimum = minimize(cost_fun_F, U_init, method='BFGS', tol=1e-4)#, constraints=[constraint])\n",
    "print(minimum)"
   ]
  },
  {
   "cell_type": "code",
   "execution_count": 89,
   "metadata": {},
   "outputs": [
    {
     "data": {
      "image/png": "[encoded data removed]",
      "text/plain": [
       "<Figure size 640x480 with 1 Axes>"
      ]
     },
     "metadata": {},
     "output_type": "display_data"
    },
    {
     "name": "stdout",
     "output_type": "stream",
     "text": [
      "[0.99999992 0.99999998 0.99999998 0.99999999 0.99999999 0.99999999\n",
      " 0.99999999 0.99999999 0.99999999 0.99999999 1.         1.\n",
      " 1.         1.         1.         1.         1.         1.\n",
      " 1.         1.         1.         1.         1.         1.\n",
      " 1.         1.         1.         1.         1.         1.\n",
      " 1.         1.         1.         1.         1.         1.\n",
      " 1.         1.         1.         1.         1.         1.\n",
      " 1.         1.         1.         1.         1.         1.\n",
      " 1.         1.        ]\n"
     ]
    }
   ],
   "source": [
    "cost = []\n",
    "U_matrices = []\n",
    "\n",
    "for i in range(50):\n",
    "    U_init = np.random.rand(N,N)\n",
    "    U_init = U_init.flatten() #needs to be flattened for minimization\n",
    "    #minimization\n",
    "    minimum = minimize(cost_fun_F, U_init, method='BFGS', tol=1e-4)#, constraints=[nonlinear_constraint])\n",
    "    cost.append(-1*minimum.fun)\n",
    "    U_matrices.append(minimum.x)\n",
    " \n",
    "cost = np.array(cost)\n",
    "U_matrices = np.array(U_matrices)    \n",
    "sorted_indices = np.argsort(cost)\n",
    "cost = cost[sorted_indices]\n",
    "U_matrices = U_matrices[sorted_indices]\n",
    "    \n",
    "plt.plot(cost)\n",
    "plt.show()\n",
    "\n",
    "print(cost)"
   ]
  },
  {
   "cell_type": "code",
   "execution_count": 151,
   "metadata": {},
   "outputs": [],
   "source": [
    "#cost function\n",
    "def cost_fun(U_vector): \n",
    "    #reshape to matrix\n",
    "    U = U_vector.reshape(N,N)\n",
    "    U_target = U/ np.linalg.norm(U,2) \n",
    "    A_vect = return_permanents(U_target)\n",
    "\n",
    "    F = ((np.dot(A_target, A_vect))**2)/((N/2)**2*np.linalg.norm(A_vect)**2)\n",
    "    \n",
    "    S = A_vect[0]**2#/(np.linalg.norm(U,2)**(2*N))            #success probability\n",
    "    \n",
    "    return -1*(59000*F + S )"
   ]
  },
  {
   "cell_type": "code",
   "execution_count": 152,
   "metadata": {},
   "outputs": [
    {
     "name": "stdout",
     "output_type": "stream",
     "text": [
      "[ 0.32066031 -0.39151576  1.7335041   0.20034974 -1.84792475  0.22166405\n",
      "  0.99143238 -0.19965181  0.97069407  1.74150166  0.82841302 -0.02967012\n",
      " -0.43303835  0.49948776 -0.24142329  2.16188339]\n",
      "59000.1174931761\n"
     ]
    }
   ],
   "source": [
    "\n",
    "U_init = U_matrices[-1].flatten()\n",
    "minimum = minimize(cost_fun, U_init, method='BFGS', tol=1e-4)#, constraints=[nonlinear_constraint])\n",
    "cost_final = -1*minimum.fun\n",
    "U_matrix_final = minimum.x\n",
    "print(U_matrix_final)\n",
    "print(cost_final)"
   ]
  },
  {
   "cell_type": "code",
   "execution_count": 153,
   "metadata": {},
   "outputs": [],
   "source": [
    "#cost function\n",
    "def cost_fun_S(U_vector): \n",
    "    #reshape to matrix\n",
    "    U = U_vector.reshape(N,N)\n",
    "    U = U/ np.linalg.norm(U,2) \n",
    "    A_vect = return_permanents(U)\n",
    "    A_tar_vect = A_target.flatten()\n",
    "    #print(\"permanent matrix: \", A_vect)\n",
    "    #F = np.abs(np.dot(A_tar_vect, A_vect))/((N/2)**2*(max(A_vect)))\n",
    "    \n",
    "    F = ((np.dot(A_tar_vect, A_vect))**2)/((N/2)**2*np.linalg.norm(A_vect)**2)\n",
    "    #F = 1 - np.linalig.norm((A_tar_vect - A_vect))\n",
    "    #print(F)\n",
    "    S = A_vect[0]**2            #success probability\n",
    "    \n",
    "    return -1*(S )"
   ]
  },
  {
   "cell_type": "code",
   "execution_count": 154,
   "metadata": {},
   "outputs": [
    {
     "name": "stdout",
     "output_type": "stream",
     "text": [
      "Success probability:  0.11752493880709587\n",
      "Fidelity:  0.999999999461649\n"
     ]
    }
   ],
   "source": [
    "print(\"Success probability: \",-1*cost_fun_S(U_matrix_final))\n",
    "print(\"Fidelity: \",-1*cost_fun_F(U_matrix_final))"
   ]
  }
 ],
 "metadata": {
  "kernelspec": {
   "display_name": "Python 3",
   "language": "python",
   "name": "python3"
  },
  "language_info": {
   "codemirror_mode": {
    "name": "ipython",
    "version": 3
   },
   "file_extension": ".py",
   "mimetype": "text/x-python",
   "name": "python",
   "nbconvert_exporter": "python",
   "pygments_lexer": "ipython3",
   "version": "3.11.3"
  }
 },
 "nbformat": 4,
 "nbformat_minor": 2
}
