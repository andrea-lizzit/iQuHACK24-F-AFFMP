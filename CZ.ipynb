{
 "cells": [
  {
   "cell_type": "code",
   "execution_count": 3,
   "metadata": {},
   "outputs": [],
   "source": [
    "from scipy.optimize import minimize, NonlinearConstraint\n",
    "import numpy as np \n",
    "import matplotlib.pyplot as plt\n"
   ]
  },
  {
   "cell_type": "code",
   "execution_count": 4,
   "metadata": {},
   "outputs": [],
   "source": [
    "import numpy as np\n",
    "from itertools import permutations\n",
    "\n",
    "def permanent(matrix):\n",
    "    n = len(matrix)\n",
    "    perm_sum = 0\n",
    "\n",
    "    for perm in permutations(range(n)):\n",
    "        product = 1\n",
    "        for i in range(n):\n",
    "            product *= matrix[i, perm[i]]\n",
    "        perm_sum += product\n",
    "\n",
    "    return perm_sum"
   ]
  },
  {
   "cell_type": "code",
   "execution_count": 5,
   "metadata": {},
   "outputs": [],
   "source": [
    "def idxs_delete(bitstring):\n",
    "\n",
    "    idx_to_delete = []\n",
    "    for i,bit in enumerate(bitstring):\n",
    "        if int(bit) == 0:\n",
    "            idx_to_delete.append(i)\n",
    "            \n",
    "    return np.array(idx_to_delete)"
   ]
  },
  {
   "cell_type": "code",
   "execution_count": 6,
   "metadata": {},
   "outputs": [],
   "source": [
    "def drop_columns_and_rows(matrix, input_state):\n",
    "    \n",
    "    # Convert binary string to a list of integers\n",
    "    indices_to_drop = idxs_delete(input_state)\n",
    "\n",
    "    # Drop the specified columns and rows\n",
    "    if indices_to_drop.size == 0:\n",
    "        return matrix\n",
    "    else:\n",
    "        new_matrix = np.delete(matrix, indices_to_drop, axis=0)\n",
    "        new_matrix = np.delete(new_matrix, indices_to_drop, axis=1)\n",
    "        return new_matrix"
   ]
  },
  {
   "cell_type": "code",
   "execution_count": 7,
   "metadata": {},
   "outputs": [],
   "source": [
    "def generate_input_states(inp_length):\n",
    "    try:\n",
    "        input_states = [format(i, f'0{inp_length}b') for i in range(2**inp_length)]\n",
    "    except:\n",
    "        input_states = []\n",
    "        print('Error')\n",
    "        \n",
    "    return input_states"
   ]
  },
  {
   "cell_type": "code",
   "execution_count": 8,
   "metadata": {},
   "outputs": [],
   "source": [
    "def return_permanents(matrix):\n",
    "    \n",
    "    input_states = generate_input_states(int(len(matrix)/2))\n",
    "    perm_list = []\n",
    "    \n",
    "    for inp_state in input_states:\n",
    "        perm_list.append(permanent(drop_columns_and_rows(matrix, inp_state)))\n",
    "        \n",
    "    return np.array(perm_list)"
   ]
  },
  {
   "cell_type": "code",
   "execution_count": 9,
   "metadata": {},
   "outputs": [
    {
     "name": "stdout",
     "output_type": "stream",
     "text": [
      "[[ 1  1]\n",
      " [ 1 -1]]\n"
     ]
    }
   ],
   "source": [
    "N = 4 #number of qubits\n",
    "A_target = np.array([[1, 1], [1, -1]])\n",
    "#A_target = np.array([[1, 1, 1], [1, 1, 1], [1, 1, 1]]) \n",
    "print(A_target)"
   ]
  },
  {
   "cell_type": "code",
   "execution_count": 10,
   "metadata": {},
   "outputs": [],
   "source": [
    "#find A function\n",
    "def permanent_a(U_matrix):\n",
    "    A = np.dot(np.transpose(U_matrix),U_matrix)\n",
    "    #print(A)\n",
    "    return A[:3,:3]"
   ]
  },
  {
   "cell_type": "code",
   "execution_count": 11,
   "metadata": {},
   "outputs": [],
   "source": [
    "#cost function\n",
    "def cost_fun(U_vector): \n",
    "    #reshape to matrix\n",
    "    U = U_vector.reshape(N,N)\n",
    "    U = U/ np.linalg.norm(U,2) \n",
    "    A_vect = return_permanents(U)\n",
    "    A_tar_vect = A_target.flatten()\n",
    "    #print(\"permanent matrix: \", A_vect)\n",
    "    #F = np.abs(np.dot(A_tar_vect, A_vect))/((N/2)**2*(max(A_vect)))\n",
    "    \n",
    "    F = ((np.dot(A_tar_vect, A_vect))**2)/((N/2)**2*np.linalg.norm(A_vect)**2)\n",
    "    #F = 1 - np.linalig.norm((A_tar_vect - A_vect))\n",
    "    #print(F)\n",
    "    S = A_vect[0]**2            #success probability\n",
    "    \n",
    "    return -1*(300*F + S )"
   ]
  },
  {
   "cell_type": "code",
   "execution_count": 12,
   "metadata": {},
   "outputs": [
    {
     "data": {
      "text/plain": [
       "-300.0740740740741"
      ]
     },
     "execution_count": 12,
     "metadata": {},
     "output_type": "execute_result"
    }
   ],
   "source": [
    "test = np.array([\n",
    "    [-1/3, -np.sqrt(2)/3, np.sqrt(2)/3, 2/3],\n",
    "    [np.sqrt(2)/3, -1/3, -2/3, np.sqrt(2)/3],\n",
    "    [-np.sqrt(3+np.sqrt(6))/3, np.sqrt(3-np.sqrt(6))/3, -np.sqrt((3+np.sqrt(6))/2)/3, np.sqrt(1/6-1/(3*np.sqrt(6)))],\n",
    "    [-np.sqrt(3-np.sqrt(6))/3, -np.sqrt(3+np.sqrt(6))/3, -np.sqrt(1/6-1/(3*np.sqrt(6))), -np.sqrt((3+np.sqrt(6))/2)/3]\n",
    "])\n",
    "return_permanents(test)\n",
    "cost_fun(test.flatten())"
   ]
  },
  {
   "cell_type": "code",
   "execution_count": 13,
   "metadata": {},
   "outputs": [],
   "source": [
    "#initialization of U\n",
    "N=4\n",
    "U_real = np.random.rand(N,N)\n",
    "U_complex = np.random.rand(N,N)\n",
    "U_init = U_real + 1j*U_complex\n",
    "#U0 = U0*1e-2 + U_init\n",
    "U_init = U_init / np.linalg.norm(U_init)\n",
    "#print(U_init, return_permanents(U_init))"
   ]
  },
  {
   "cell_type": "code",
   "execution_count": 14,
   "metadata": {},
   "outputs": [],
   "source": [
    "def constraint_norm1(x):\n",
    "    return np.linalg.norm(x,2) - 1\n",
    "\n",
    "constraint = {'type': 'eq', 'fun': constraint_norm1}\n",
    "nonlinear_constraint = NonlinearConstraint(constraint_norm1, 0, 0)\n",
    "\n"
   ]
  },
  {
   "cell_type": "code",
   "execution_count": 15,
   "metadata": {},
   "outputs": [
    {
     "name": "stderr",
     "output_type": "stream",
     "text": [
      "c:\\Users\\feded\\AppData\\Local\\Programs\\Python\\Python311\\Lib\\site-packages\\scipy\\optimize\\_differentiable_functions.py:107: ComplexWarning: Casting complex values to real discards the imaginary part\n",
      "  self.x = np.atleast_1d(x0).astype(float)\n",
      "c:\\Users\\feded\\AppData\\Local\\Programs\\Python\\Python311\\Lib\\site-packages\\scipy\\optimize\\_differentiable_functions.py:243: ComplexWarning: Casting complex values to real discards the imaginary part\n",
      "  self.x = np.atleast_1d(x).astype(float)\n"
     ]
    },
    {
     "name": "stdout",
     "output_type": "stream",
     "text": [
      "  message: Desired error not necessarily achieved due to precision loss.\n",
      "  success: False\n",
      "   status: 2\n",
      "      fun: -300.1510926778528\n",
      "        x: [ 0.95207664+0.21917769j -2.11572625+0.08559658j ...\n",
      "             0.06080915+0.10862655j -4.38957863+0.20329216j]\n",
      "      nit: 911\n",
      "      jac: [-1.601e-02 -3.828e-02 ... -9.320e-02 -1.633e-02]\n",
      " hess_inv: [[ 1.294e+01 -5.411e+01 ...  1.785e+02 -9.734e+01]\n",
      "            [-5.411e+01  2.315e+02 ... -7.672e+02  4.161e+02]\n",
      "            ...\n",
      "            [ 1.785e+02 -7.672e+02 ...  2.548e+03 -1.379e+03]\n",
      "            [-9.734e+01  4.161e+02 ... -1.379e+03  7.479e+02]]\n",
      "     nfev: 22150\n",
      "     njev: 1230\n"
     ]
    },
    {
     "name": "stderr",
     "output_type": "stream",
     "text": [
      "c:\\Users\\feded\\AppData\\Local\\Programs\\Python\\Python311\\Lib\\site-packages\\scipy\\optimize\\_differentiable_functions.py:243: ComplexWarning: Casting complex values to real discards the imaginary part\n",
      "  self.x = np.atleast_1d(x).astype(float)\n"
     ]
    }
   ],
   "source": [
    "#minimization\n",
    "U_init = U_init.flatten()\n",
    "minimum = minimize(cost_fun, U_init, method='BFGS')#, constraints=[constraint])\n",
    "print(minimum)"
   ]
  },
  {
   "cell_type": "code",
   "execution_count": 16,
   "metadata": {},
   "outputs": [
    {
     "name": "stdout",
     "output_type": "stream",
     "text": [
      "[300.1525714076261, 300.15229385270845, 300.1525726144691, 300.1385870656719, 300.15247308347443, 300.15232434353703, 300.1496734562793, 300.1525495394416, 300.1516405453337, 300.15255406172406]\n"
     ]
    },
    {
     "data": {
      "image/png": "[encoded data removed]",
      "text/plain": [
       "<Figure size 640x480 with 1 Axes>"
      ]
     },
     "metadata": {},
     "output_type": "display_data"
    }
   ],
   "source": [
    "cost = []\n",
    "U_matrices = []\n",
    "\n",
    "for i in range(10):\n",
    "    U_real = np.random.rand(N,N)\n",
    "    #U_complex = np.random.rand(N,N)\n",
    "    #U_init = np.zeros((N,N),dtype = 'complex_')\n",
    "    U_init = U_real #+ 1j*U_complex\n",
    "    #U_init = U_init / np.linalg.norm(U_init)\n",
    "    U_init = U_init.flatten()\n",
    "    #minimization\n",
    "    minimum = minimize(cost_fun, U_init, method='BFGS', tol=1e-4)#, constraints=[nonlinear_constraint])\n",
    "    cost.append(-1*minimum.fun)\n",
    "    U_matrices.append(minimum.x)\n",
    " \n",
    "print(cost) \n",
    "cost = np.array(cost)\n",
    "U_matrices = np.array(U_matrices)    \n",
    "sorted_indices = np.argsort(cost)\n",
    "cost = cost[sorted_indices]\n",
    "U_matrices = U_matrices[sorted_indices]\n",
    "    \n",
    "plt.plot(cost)\n",
    "plt.show()"
   ]
  },
  {
   "cell_type": "code",
   "execution_count": 17,
   "metadata": {},
   "outputs": [
    {
     "name": "stdout",
     "output_type": "stream",
     "text": [
      "-300.1385870656719\n",
      "-300.1496734562793\n",
      "-300.1516405453337\n",
      "-300.15229385270845\n",
      "-300.15232434353703\n",
      "-300.15247308347443\n",
      "-300.1525495394416\n",
      "-300.15255406172406\n",
      "-300.1525714076261\n",
      "-300.1525726144691\n"
     ]
    }
   ],
   "source": [
    "#U_matrices[-1] = U_matrices[-1]/np.linalg.norm(U_matrices[-1])\n",
    "for i in range(len(U_matrices)):\n",
    "    print(cost_fun(U_matrices[i]))\n"
   ]
  },
  {
   "cell_type": "code",
   "execution_count": 18,
   "metadata": {},
   "outputs": [],
   "source": [
    "#cost function\n",
    "def cost_fun_F(U_vector): \n",
    "    #reshape to matrix\n",
    "    U = U_vector.reshape(N,N)\n",
    "    U = U/ np.linalg.norm(U,2) \n",
    "    A_vect = return_permanents(U)\n",
    "    A_tar_vect = A_target.flatten()\n",
    "    #print(\"permanent matrix: \", A_vect)\n",
    "    #F = np.abs(np.dot(A_tar_vect, A_vect))/((N/2)**2*(max(A_vect)))\n",
    "    \n",
    "    F = ((np.dot(A_tar_vect, A_vect))**2)/((N/2)**2*np.linalg.norm(A_vect)**2)\n",
    "    #F = 1 - np.linalig.norm((A_tar_vect - A_vect))\n",
    "    #print(F)\n",
    "    S = A_vect[0]**2            #success probability\n",
    "    \n",
    "    return -1*(F )"
   ]
  },
  {
   "cell_type": "code",
   "execution_count": 19,
   "metadata": {},
   "outputs": [
    {
     "data": {
      "text/plain": [
       "\"cost = []\\nU_matrices_final = []\\n\\nfor i in range(50):\\n    #minimization\\n    U_init = U_matrices[-1]\\n    minimum = minimize(cost_fun_final, U_init, method='BFGS', tol=1e-4)#, constraints=[nonlinear_constraint])\\n    cost.append(-1*minimum.fun)\\n    U_matrices_final.append(minimum.x)\\n \\nprint(cost) \\ncost = np.array(cost)\\nU_matrices_final = np.array(U_matrices)    \\nsorted_indices = np.argsort(cost)\\ncost = cost[sorted_indices]\\nU_matrices_final = U_matrices_final[sorted_indices]\\n    \\nplt.plot(cost)\\nplt.show()\""
      ]
     },
     "execution_count": 19,
     "metadata": {},
     "output_type": "execute_result"
    }
   ],
   "source": [
    "'''cost = []\n",
    "U_matrices_final = []\n",
    "\n",
    "for i in range(50):\n",
    "    #minimization\n",
    "    U_init = U_matrices[-1]\n",
    "    minimum = minimize(cost_fun_final, U_init, method='BFGS', tol=1e-4)#, constraints=[nonlinear_constraint])\n",
    "    cost.append(-1*minimum.fun)\n",
    "    U_matrices_final.append(minimum.x)\n",
    " \n",
    "print(cost) \n",
    "cost = np.array(cost)\n",
    "U_matrices_final = np.array(U_matrices)    \n",
    "sorted_indices = np.argsort(cost)\n",
    "cost = cost[sorted_indices]\n",
    "U_matrices_final = U_matrices_final[sorted_indices]\n",
    "    \n",
    "plt.plot(cost)\n",
    "plt.show()'''"
   ]
  },
  {
   "cell_type": "code",
   "execution_count": 22,
   "metadata": {},
   "outputs": [],
   "source": [
    "#cost function\n",
    "def cost_fun_S(U_vector): \n",
    "    #reshape to matrix\n",
    "    U = U_vector.reshape(N,N)\n",
    "    U = U/ np.linalg.norm(U,2) \n",
    "    A_vect = return_permanents(U)\n",
    "    A_tar_vect = A_target.flatten()\n",
    "    #print(\"permanent matrix: \", A_vect)\n",
    "    #F = np.abs(np.dot(A_tar_vect, A_vect))/((N/2)**2*(max(A_vect)))\n",
    "    \n",
    "    F = ((np.dot(A_tar_vect, A_vect))**2)/((N/2)**2*np.linalg.norm(A_vect)**2)\n",
    "    #F = 1 - np.linalig.norm((A_tar_vect - A_vect))\n",
    "    #print(F)\n",
    "    S = sum(A_vect**2)/4            #success probability\n",
    "    \n",
    "    return -1*(S )"
   ]
  },
  {
   "cell_type": "code",
   "execution_count": 23,
   "metadata": {},
   "outputs": [
    {
     "name": "stdout",
     "output_type": "stream",
     "text": [
      "-0.9999993608014835\n",
      "-0.1523428450798996\n",
      "[ 1.09449540e-01 -2.41727464e-01  4.23677632e-01  2.82138978e-03\n",
      " -4.53503541e-01  1.09356176e-01  1.79835765e-01 -3.52725526e-04\n",
      " -4.04181718e-04  2.59763376e-03 -1.69697852e-03  5.00059674e-01\n",
      "  1.79793245e-01  4.23690174e-01  1.95453946e-01 -1.40943885e-03]\n"
     ]
    }
   ],
   "source": [
    "print(cost_fun_F(U_matrices[-1]))\n",
    "print(cost_fun_S(U_matrices[-1]))\n",
    "print(U_matrices[-1]/np.linalg.norm(U_matrices[-1],2))"
   ]
  }
 ],
 "metadata": {
  "kernelspec": {
   "display_name": "Python 3",
   "language": "python",
   "name": "python3"
  },
  "language_info": {
   "codemirror_mode": {
    "name": "ipython",
    "version": 3
   },
   "file_extension": ".py",
   "mimetype": "text/x-python",
   "name": "python",
   "nbconvert_exporter": "python",
   "pygments_lexer": "ipython3",
   "version": "3.11.3"
  }
 },
 "nbformat": 4,
 "nbformat_minor": 2
}
